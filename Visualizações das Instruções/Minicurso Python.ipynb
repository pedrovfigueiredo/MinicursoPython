{
 "cells": [
  {
   "cell_type": "markdown",
   "metadata": {},
   "source": [
    "# Minicurso de Introdução a Python 3\n",
    "## Pedro Figueirêdo\n",
    "\n",
    "\n",
    "Depois de executar com sucesso o nosso"
   ]
  },
  {
   "cell_type": "code",
   "execution_count": 191,
   "metadata": {},
   "outputs": [
    {
     "name": "stdout",
     "output_type": "stream",
     "text": [
      "Hello World\n"
     ]
    }
   ],
   "source": [
    "print(\"Hello World\")"
   ]
  },
  {
   "cell_type": "markdown",
   "metadata": {},
   "source": [
    "Podemos passar para as etapas do nosso minicurso.\n",
    "\n",
    "### Cronograma do minicurso\n",
    "1. Tipos de Objetos\n",
    "    * Números\n",
    "    * Strings\n",
    "    * Listas\n",
    "    * Tuplas\n",
    "    * Dicionários\n",
    "    * Booleanos\n",
    "1. Operadores de Comparação\n",
    "    * Igual e Diferente\n",
    "    * Menor e Maior\n",
    "    * Operadores de Comparação Aninhados com Operadores Lógicos\n",
    "1. Estruturas Condicionais\n",
    "    * If, else e elif\n",
    "1. Laços de Repetição\n",
    "    * While\n",
    "    * For\n",
    "1. Projeto Final\n",
    "    * __Agenda Telefônica__\n",
    "    * Facilidades do Python Úteis para o Projeto\n",
    "1. Extra - List Comprehension"
   ]
  },
  {
   "cell_type": "markdown",
   "metadata": {},
   "source": [
    "## Tipos de Objetos\n",
    "\n",
    "### Números:\n",
    "\n",
    "Há dois tipos de números em Python: números inteiros e números de ponto flutuante (reais).\n",
    "Todas as operações mostradas podem ser feitas com ambos os tipos.\n",
    "\n",
    "\n",
    "### <font color='red'>Alerta de comparação com C</font>\n",
    "Em C, numa divisão de inteiros, o resultado é **inteiro**, ou seja, trunca-se o valor resultante."
   ]
  },
  {
   "cell_type": "code",
   "execution_count": 192,
   "metadata": {},
   "outputs": [
    {
     "data": {
      "text/plain": [
       "9"
      ]
     },
     "execution_count": 192,
     "metadata": {},
     "output_type": "execute_result"
    }
   ],
   "source": [
    "# Adição\n",
    "4+5"
   ]
  },
  {
   "cell_type": "code",
   "execution_count": 193,
   "metadata": {},
   "outputs": [
    {
     "data": {
      "text/plain": [
       "-7"
      ]
     },
     "execution_count": 193,
     "metadata": {},
     "output_type": "execute_result"
    }
   ],
   "source": [
    "# Subtração\n",
    "3-10"
   ]
  },
  {
   "cell_type": "code",
   "execution_count": 194,
   "metadata": {},
   "outputs": [
    {
     "data": {
      "text/plain": [
       "1.5"
      ]
     },
     "execution_count": 194,
     "metadata": {},
     "output_type": "execute_result"
    }
   ],
   "source": [
    "# Multiplicação\n",
    "0.5*3"
   ]
  },
  {
   "cell_type": "code",
   "execution_count": 195,
   "metadata": {},
   "outputs": [
    {
     "data": {
      "text/plain": [
       "2.5"
      ]
     },
     "execution_count": 195,
     "metadata": {},
     "output_type": "execute_result"
    }
   ],
   "source": [
    "# Divisão\n",
    "5/2"
   ]
  },
  {
   "cell_type": "code",
   "execution_count": 196,
   "metadata": {},
   "outputs": [
    {
     "data": {
      "text/plain": [
       "9"
      ]
     },
     "execution_count": 196,
     "metadata": {},
     "output_type": "execute_result"
    }
   ],
   "source": [
    "# Potenciação\n",
    "3**2"
   ]
  },
  {
   "cell_type": "code",
   "execution_count": 197,
   "metadata": {},
   "outputs": [
    {
     "data": {
      "text/plain": [
       "2.0"
      ]
     },
     "execution_count": 197,
     "metadata": {},
     "output_type": "execute_result"
    }
   ],
   "source": [
    "# Radiciação (Na verdade, é tornar o expoente um número menor que 1)\n",
    "4**0.5"
   ]
  },
  {
   "cell_type": "code",
   "execution_count": 198,
   "metadata": {},
   "outputs": [
    {
     "data": {
      "text/plain": [
       "35"
      ]
     },
     "execution_count": 198,
     "metadata": {},
     "output_type": "execute_result"
    }
   ],
   "source": [
    "# Ordem de operadores pode ser alterada com parênteses\n",
    "(3 + 2) * (9 - 2)"
   ]
  },
  {
   "cell_type": "markdown",
   "metadata": {},
   "source": [
    "### Strings:\n",
    "\n",
    "São sequências de caracteres entre ' ' ou \" \".\n",
    "\n",
    "### <font color='red'>Alerta de comparação com C</font>\n",
    "Em C, não existe, por padrão, o tipo string. Usa-se um vetor de elementos do tipo char para trabalhar-se com strings.\n",
    "Isso requer conhecimento em manipulação de ponteiros, que pode ser um pesadelo para muita gente!"
   ]
  },
  {
   "cell_type": "code",
   "execution_count": 199,
   "metadata": {
    "collapsed": true
   },
   "outputs": [],
   "source": [
    "# Pode ter uma palavra só\n",
    "A = 'String'"
   ]
  },
  {
   "cell_type": "code",
   "execution_count": 200,
   "metadata": {
    "collapsed": true
   },
   "outputs": [],
   "source": [
    "# Pode ser uma frase inteira\n",
    "B = \"Isso também é uma string\""
   ]
  },
  {
   "cell_type": "code",
   "execution_count": 201,
   "metadata": {},
   "outputs": [
    {
     "data": {
      "text/plain": [
       "'StringIsso também é uma string'"
      ]
     },
     "execution_count": 201,
     "metadata": {},
     "output_type": "execute_result"
    }
   ],
   "source": [
    "# Pode-se concatenar strings\n",
    "A + B"
   ]
  },
  {
   "cell_type": "markdown",
   "metadata": {},
   "source": [
    "##### Algumas funções já vêm implementadas nativamente:"
   ]
  },
  {
   "cell_type": "code",
   "execution_count": 202,
   "metadata": {
    "collapsed": true
   },
   "outputs": [],
   "source": [
    "A = \"Pedro é um belo nome\""
   ]
  },
  {
   "cell_type": "code",
   "execution_count": 203,
   "metadata": {},
   "outputs": [
    {
     "data": {
      "text/plain": [
       "20"
      ]
     },
     "execution_count": 203,
     "metadata": {},
     "output_type": "execute_result"
    }
   ],
   "source": [
    "# Informa o número de caracteres na string\n",
    "len(A)"
   ]
  },
  {
   "cell_type": "code",
   "execution_count": 204,
   "metadata": {},
   "outputs": [
    {
     "data": {
      "text/plain": [
       "'PEDRO É UM BELO NOME'"
      ]
     },
     "execution_count": 204,
     "metadata": {},
     "output_type": "execute_result"
    }
   ],
   "source": [
    "# Transforma para maiúsculo\n",
    "A.upper()"
   ]
  },
  {
   "cell_type": "code",
   "execution_count": 205,
   "metadata": {},
   "outputs": [
    {
     "data": {
      "text/plain": [
       "'pedro é um belo nome'"
      ]
     },
     "execution_count": 205,
     "metadata": {},
     "output_type": "execute_result"
    }
   ],
   "source": [
    "# Transforma para minúsculo\n",
    "A.lower()"
   ]
  },
  {
   "cell_type": "code",
   "execution_count": 206,
   "metadata": {},
   "outputs": [
    {
     "data": {
      "text/plain": [
       "['Pedro', 'é', 'um', 'belo', 'nome']"
      ]
     },
     "execution_count": 206,
     "metadata": {},
     "output_type": "execute_result"
    }
   ],
   "source": [
    "# Divide a string a cada espaço em branco\n",
    "A.split()"
   ]
  },
  {
   "cell_type": "markdown",
   "metadata": {},
   "source": [
    "### Listas:\n",
    "\n",
    "São conjuntos de objetos organizados entre [ ].\n",
    "\n",
    "### <font color='red'>Alerta de comparação com C</font>\n",
    "O equivalente para listas, em C, são os **arrays**, que, assim como as strings, dependem de manipulação de ponteiros.\n",
    "Em Python, diferentemente de C, listas aceitam objetos arbitrários. Não há restrições de tipos para seus elementos."
   ]
  },
  {
   "cell_type": "code",
   "execution_count": 207,
   "metadata": {
    "collapsed": true
   },
   "outputs": [],
   "source": [
    "lista_exemplo1 = [1,7,4,5,6,30]\n",
    "lista_exemplo2 = [\"Pedro\",\"João\",\"José\",\"Maria\",\"Leopoldo\",\"Bob Esponja\"]\n",
    "lista_pythonica = [1, \"Python\", \"Java\", 72, \"IEEE <3\", 42]"
   ]
  },
  {
   "cell_type": "markdown",
   "metadata": {},
   "source": [
    "##### Usa-se a indexação para referir-se a elementos específicos da lista!\n",
    "\n",
    "Lembrando que, assim como C, **a indexação começa a partir do 0**\n"
   ]
  },
  {
   "cell_type": "code",
   "execution_count": 208,
   "metadata": {},
   "outputs": [
    {
     "data": {
      "text/plain": [
       "5"
      ]
     },
     "execution_count": 208,
     "metadata": {},
     "output_type": "execute_result"
    }
   ],
   "source": [
    "# Retorna o quarto elemento da lista_exemplo1\n",
    "lista_exemplo1[3]"
   ]
  },
  {
   "cell_type": "code",
   "execution_count": 209,
   "metadata": {},
   "outputs": [
    {
     "data": {
      "text/plain": [
       "['Java', 72, 'IEEE <3', 42]"
      ]
     },
     "execution_count": 209,
     "metadata": {},
     "output_type": "execute_result"
    }
   ],
   "source": [
    "# Retorna uma nova lista contento os elementos A PARTIR do terceiro elemento (índice 2) da lista_pythonica\n",
    "lista_pythonica[2:]"
   ]
  },
  {
   "cell_type": "code",
   "execution_count": 210,
   "metadata": {},
   "outputs": [
    {
     "data": {
      "text/plain": [
       "['Pedro', 'João', 'José', 'Maria']"
      ]
     },
     "execution_count": 210,
     "metadata": {},
     "output_type": "execute_result"
    }
   ],
   "source": [
    "# Retorna uma nova lista contento os elementos ATÉ o quinto elemento (índice 4) da lista_pythonica\n",
    "lista_exemplo2[:4]"
   ]
  },
  {
   "cell_type": "markdown",
   "metadata": {},
   "source": [
    "##### Pode-se fazer muitas outras operações com listas:"
   ]
  },
  {
   "cell_type": "code",
   "execution_count": 211,
   "metadata": {},
   "outputs": [
    {
     "data": {
      "text/plain": [
       "[1, 7, 4, 5, 6, 30, 1, 7, 4, 5, 6, 30, 1, 7, 4, 5, 6, 30]"
      ]
     },
     "execution_count": 211,
     "metadata": {},
     "output_type": "execute_result"
    }
   ],
   "source": [
    "# Gera uma nova lista contendo 3 vezes os elementos da lista_exemplo1\n",
    "lista_exemplo1 * 3"
   ]
  },
  {
   "cell_type": "code",
   "execution_count": 212,
   "metadata": {},
   "outputs": [
    {
     "name": "stdout",
     "output_type": "stream",
     "text": [
      "['Pedro', 'João', 'José', 'Maria', 'Leopoldo', 'Bob Esponja', 'Jorge Amado']\n"
     ]
    }
   ],
   "source": [
    "# Adiciona um novo elemento ao final da lista\n",
    "lista_exemplo2.append(\"Jorge Amado\")\n",
    "print(lista_exemplo2)"
   ]
  },
  {
   "cell_type": "code",
   "execution_count": 213,
   "metadata": {},
   "outputs": [
    {
     "data": {
      "text/plain": [
       "42"
      ]
     },
     "execution_count": 213,
     "metadata": {},
     "output_type": "execute_result"
    }
   ],
   "source": [
    "# Exclui-se um elemento da lista (por padrão, exclui-se o último, mas pode-se passar o índice por parâmetro)\n",
    "lista_pythonica.pop()"
   ]
  },
  {
   "cell_type": "code",
   "execution_count": 214,
   "metadata": {},
   "outputs": [
    {
     "name": "stdout",
     "output_type": "stream",
     "text": [
      "['Jorge Amado', 'Bob Esponja', 'Leopoldo', 'Maria', 'José', 'João', 'Pedro']\n"
     ]
    }
   ],
   "source": [
    "# Pode-se inverter a ordem dos elementos da lista\n",
    "lista_exemplo2.reverse()\n",
    "print(lista_exemplo2)"
   ]
  },
  {
   "cell_type": "markdown",
   "metadata": {},
   "source": [
    "### Tuplas:\n",
    "\n",
    "São similares a listas, com a diferença de serem imutáveis. Foram pensadas para guardar valores que não deveriam ser modificados, como dias da semana ou meses num ano, por exemplo.\n",
    "São representados por valores entre **( )**.\n",
    "\n",
    "### <font color='red'>Alerta de comparação com C</font>\n",
    "Poderia-se traçar uma semelhança com um array em C, com o detalhe de receber o identificador **const**, que significaria que os itens do array não deveriam ser mudados."
   ]
  },
  {
   "cell_type": "code",
   "execution_count": 215,
   "metadata": {},
   "outputs": [
    {
     "ename": "TypeError",
     "evalue": "'tuple' object does not support item assignment",
     "output_type": "error",
     "traceback": [
      "\u001b[0;31m---------------------------------------------------------------------------\u001b[0m",
      "\u001b[0;31mTypeError\u001b[0m                                 Traceback (most recent call last)",
      "\u001b[0;32m<ipython-input-215-cffa1a14fdf4>\u001b[0m in \u001b[0;36m<module>\u001b[0;34m()\u001b[0m\n\u001b[1;32m      2\u001b[0m \u001b[0mnova_tupla\u001b[0m \u001b[0;34m=\u001b[0m \u001b[0;34m(\u001b[0m\u001b[0;36m3\u001b[0m\u001b[0;34m,\u001b[0m\u001b[0;36m4\u001b[0m\u001b[0;34m,\u001b[0m\u001b[0;36m10\u001b[0m\u001b[0;34m,\u001b[0m\u001b[0;34m\"Imutável\"\u001b[0m\u001b[0;34m,\u001b[0m\u001b[0;36m21\u001b[0m\u001b[0;34m)\u001b[0m\u001b[0;34m\u001b[0m\u001b[0m\n\u001b[1;32m      3\u001b[0m \u001b[0;34m\u001b[0m\u001b[0m\n\u001b[0;32m----> 4\u001b[0;31m \u001b[0mnova_tupla\u001b[0m\u001b[0;34m[\u001b[0m\u001b[0;36m3\u001b[0m\u001b[0;34m]\u001b[0m \u001b[0;34m=\u001b[0m \u001b[0;34m\"Mudei!\"\u001b[0m\u001b[0;34m\u001b[0m\u001b[0m\n\u001b[0m",
      "\u001b[0;31mTypeError\u001b[0m: 'tuple' object does not support item assignment"
     ]
    }
   ],
   "source": [
    "# Tuplas não devem ser mudadas. Caso tente, o interpretador irá gerar um erro!\n",
    "nova_tupla = (3,4,10,\"Imutável\",21)\n",
    "\n",
    "nova_tupla[3] = \"Mudei!\""
   ]
  },
  {
   "cell_type": "markdown",
   "metadata": {},
   "source": [
    "### Dicionários:\n",
    "\n",
    "São pares de objetos organizados como CHAVE e VALOR. Em python, esse grupo é representado por {CHAVE : VALOR}.\n",
    "\n",
    "### <font color='red'>Alerta de comparação com C</font>\n",
    "Não existe um equivalente nativo para dicionários em C. Esse tipo de dado é introduzido apenas com a biblioteca STD, no C++."
   ]
  },
  {
   "cell_type": "code",
   "execution_count": 216,
   "metadata": {
    "collapsed": true
   },
   "outputs": [],
   "source": [
    "# Criação de um dicionário\n",
    "meu_dicionario = {\"chave1\":\"valor1\", \"chave2\":\"valor2\"}"
   ]
  },
  {
   "cell_type": "code",
   "execution_count": 217,
   "metadata": {},
   "outputs": [
    {
     "data": {
      "text/plain": [
       "'valor1'"
      ]
     },
     "execution_count": 217,
     "metadata": {},
     "output_type": "execute_result"
    }
   ],
   "source": [
    "# Obtenção do valor do objeto cuja chave é: 'chave1'\n",
    "meu_dicionario[\"chave1\"]"
   ]
  },
  {
   "cell_type": "markdown",
   "metadata": {},
   "source": [
    "**Assim como as listas, os dicionários aceitam tipos variados para o campo VALOR.**"
   ]
  },
  {
   "cell_type": "code",
   "execution_count": 218,
   "metadata": {
    "collapsed": true
   },
   "outputs": [],
   "source": [
    "# Dicionário com tipos diferentes\n",
    "dicionario_invocado = {\"chave1\":123, \"Pedro\":\"Nome Bonito Demais\"}"
   ]
  },
  {
   "cell_type": "code",
   "execution_count": 219,
   "metadata": {},
   "outputs": [
    {
     "data": {
      "text/plain": [
       "'Nome Bonito Demais'"
      ]
     },
     "execution_count": 219,
     "metadata": {},
     "output_type": "execute_result"
    }
   ],
   "source": [
    "# Obtenção do valor do objeto cuja chave é \"Pedro\"\n",
    "dicionario_invocado[\"Pedro\"]"
   ]
  },
  {
   "cell_type": "code",
   "execution_count": 220,
   "metadata": {},
   "outputs": [
    {
     "data": {
      "text/plain": [
       "{'chave1': 'IEEE', 'chave2': ['Lista', 'Também', 'Vale']}"
      ]
     },
     "execution_count": 220,
     "metadata": {},
     "output_type": "execute_result"
    }
   ],
   "source": [
    "# Vale tudo mesmo!\n",
    "dicionario_invocado2 = {\"chave1\":\"IEEE\", \"chave2\":[\"Lista\", \"Também\", \"Vale\"]}\n",
    "\n",
    "dicionario_invocado2"
   ]
  },
  {
   "cell_type": "code",
   "execution_count": 221,
   "metadata": {},
   "outputs": [
    {
     "name": "stdout",
     "output_type": "stream",
     "text": [
      "Dicionário 1:  {'chave1': 123, 'Pedro': 'Nome Bonito Demais', 'novo_chave': 'Novo elemento'}\n",
      "Dicionário 2:  {'chave1': 'IEEE', 'chave2': ['Lista', 'Também', 'Vale'], 'chave3': ['Será', ['Que', 'Funciona?']]}\n"
     ]
    }
   ],
   "source": [
    "# Adicionando novos elementos\n",
    "dicionario_invocado[\"novo_chave\"] = \"Novo elemento\"\n",
    "dicionario_invocado2[\"chave3\"] = [\"Será\", [\"Que\", \"Funciona?\"]]\n",
    "\n",
    "print(\"Dicionário 1: \", dicionario_invocado)\n",
    "print(\"Dicionário 2: \", dicionario_invocado2)"
   ]
  },
  {
   "cell_type": "markdown",
   "metadata": {},
   "source": [
    "##### Há métodos nativos implementados que facilitam a vida!"
   ]
  },
  {
   "cell_type": "code",
   "execution_count": 222,
   "metadata": {},
   "outputs": [
    {
     "data": {
      "text/plain": [
       "dict_keys(['chave1', 'Pedro', 'novo_chave'])"
      ]
     },
     "execution_count": 222,
     "metadata": {},
     "output_type": "execute_result"
    }
   ],
   "source": [
    "# Retorna todas as chaves do dicionário\n",
    "dicionario_invocado.keys()"
   ]
  },
  {
   "cell_type": "code",
   "execution_count": 223,
   "metadata": {},
   "outputs": [
    {
     "data": {
      "text/plain": [
       "dict_values(['IEEE', ['Lista', 'Também', 'Vale'], ['Será', ['Que', 'Funciona?']]])"
      ]
     },
     "execution_count": 223,
     "metadata": {},
     "output_type": "execute_result"
    }
   ],
   "source": [
    "# Retorna todas os valores do dicionário\n",
    "dicionario_invocado2.values()"
   ]
  },
  {
   "cell_type": "code",
   "execution_count": 224,
   "metadata": {},
   "outputs": [
    {
     "data": {
      "text/plain": [
       "dict_items([('chave1', 'valor1'), ('chave2', 'valor2')])"
      ]
     },
     "execution_count": 224,
     "metadata": {},
     "output_type": "execute_result"
    }
   ],
   "source": [
    "# Retorna todos os pares (CHAVE,VALOR) do dicionário\n",
    "meu_dicionario.items()"
   ]
  },
  {
   "cell_type": "markdown",
   "metadata": {},
   "source": [
    "##### Se olharmos para o nosso projeto final (Agenda telefônica), já imagina-se que usar dicionário é uma boa!"
   ]
  },
  {
   "cell_type": "code",
   "execution_count": 225,
   "metadata": {},
   "outputs": [
    {
     "name": "stdout",
     "output_type": "stream",
     "text": [
      "+55 83 9 1234-5321\n"
     ]
    }
   ],
   "source": [
    "agenda_telefonica = {\"Pedro\": \"+55 83 9 1234-5321\"}\n",
    "\n",
    "print(agenda_telefonica[\"Pedro\"])"
   ]
  },
  {
   "cell_type": "markdown",
   "metadata": {},
   "source": [
    "### Booleanos:\n",
    "\n",
    "Tipo de dado que tem duas possibilidades: verdadeiro (<font color='green'>True</font>) ou falso (<font color='red'>False</font>).\n",
    "\n",
    "### <font color='red'>Alerta de comparação com C</font>\n",
    "Não existe um equivalente nativo para booleanos em C. Usam-se os inteiros 1 e 0 para representar verdadeiro e falso, respectivamente."
   ]
  },
  {
   "cell_type": "code",
   "execution_count": 226,
   "metadata": {},
   "outputs": [],
   "source": [
    "IEEE_e_inovador = True\n",
    "Dormi_mais_de_tres_horas_ontem = False"
   ]
  },
  {
   "cell_type": "code",
   "execution_count": 227,
   "metadata": {},
   "outputs": [
    {
     "data": {
      "text/plain": [
       "True"
      ]
     },
     "execution_count": 227,
     "metadata": {},
     "output_type": "execute_result"
    }
   ],
   "source": [
    "IEEE_e_inovador"
   ]
  },
  {
   "cell_type": "code",
   "execution_count": 228,
   "metadata": {},
   "outputs": [
    {
     "data": {
      "text/plain": [
       "False"
      ]
     },
     "execution_count": 228,
     "metadata": {},
     "output_type": "execute_result"
    }
   ],
   "source": [
    "Dormi_mais_de_tres_horas_ontem"
   ]
  },
  {
   "cell_type": "markdown",
   "metadata": {},
   "source": [
    "## Operadores de Comparação:\n",
    "\n",
    "Estão presentes em todas as linguagens de programação. Servem para avaliar expressões lógicas.\n",
    "**Retornam um booleano.**\n",
    "\n",
    "### <font color='red'>Alerta de comparação com C</font>\n",
    "Todos os operadores mostrados aqui têm representação fiel em C. Funcionam da mesma maneira e têm mesma sintaxe.\n",
    "\n",
    "### Igual e Diferente ( == e !=)\n",
    "\n",
    "Avaliam se os operandos são iguais ou se são diferentes."
   ]
  },
  {
   "cell_type": "code",
   "execution_count": 229,
   "metadata": {},
   "outputs": [
    {
     "data": {
      "text/plain": [
       "False"
      ]
     },
     "execution_count": 229,
     "metadata": {},
     "output_type": "execute_result"
    }
   ],
   "source": [
    "True == False"
   ]
  },
  {
   "cell_type": "code",
   "execution_count": 230,
   "metadata": {},
   "outputs": [
    {
     "data": {
      "text/plain": [
       "True"
      ]
     },
     "execution_count": 230,
     "metadata": {},
     "output_type": "execute_result"
    }
   ],
   "source": [
    "IEEE_e_inovador != Dormi_mais_de_tres_horas_ontem"
   ]
  },
  {
   "cell_type": "code",
   "execution_count": 231,
   "metadata": {},
   "outputs": [
    {
     "data": {
      "text/plain": [
       "False"
      ]
     },
     "execution_count": 231,
     "metadata": {},
     "output_type": "execute_result"
    }
   ],
   "source": [
    "2 != 2"
   ]
  },
  {
   "cell_type": "code",
   "execution_count": 232,
   "metadata": {},
   "outputs": [
    {
     "data": {
      "text/plain": [
       "True"
      ]
     },
     "execution_count": 232,
     "metadata": {},
     "output_type": "execute_result"
    }
   ],
   "source": [
    "# Strings representadas por aspas simples ou duplas têm mesmo valor\n",
    "'' == \"\""
   ]
  },
  {
   "cell_type": "markdown",
   "metadata": {},
   "source": [
    "### Menor e Maior ( <, <=, > e >=)\n",
    "\n",
    "Avaliam se os operandos são menores, menores ou iguais, maiores, maiores ou iguais."
   ]
  },
  {
   "cell_type": "code",
   "execution_count": 233,
   "metadata": {},
   "outputs": [
    {
     "data": {
      "text/plain": [
       "True"
      ]
     },
     "execution_count": 233,
     "metadata": {},
     "output_type": "execute_result"
    }
   ],
   "source": [
    "2 <= 3"
   ]
  },
  {
   "cell_type": "code",
   "execution_count": 234,
   "metadata": {},
   "outputs": [
    {
     "data": {
      "text/plain": [
       "True"
      ]
     },
     "execution_count": 234,
     "metadata": {},
     "output_type": "execute_result"
    }
   ],
   "source": [
    "# Python considera o valor de ascII para avaliar caracteres\n",
    "'a' < 'b'"
   ]
  },
  {
   "cell_type": "code",
   "execution_count": 235,
   "metadata": {},
   "outputs": [
    {
     "data": {
      "text/plain": [
       "False"
      ]
     },
     "execution_count": 235,
     "metadata": {},
     "output_type": "execute_result"
    }
   ],
   "source": [
    "10 > 11"
   ]
  },
  {
   "cell_type": "code",
   "execution_count": 236,
   "metadata": {},
   "outputs": [
    {
     "data": {
      "text/plain": [
       "True"
      ]
     },
     "execution_count": 236,
     "metadata": {},
     "output_type": "execute_result"
    }
   ],
   "source": [
    "# Número de caracteres em 'Pedro' é maior que em 'IEEE'\n",
    "len(\"Pedro\") >= len(\"IEEE\")"
   ]
  },
  {
   "cell_type": "markdown",
   "metadata": {},
   "source": [
    "### Operadores de Comparação Aninhados com Operadores Lógicos\n",
    "\n",
    "Trata-se de impor mais de uma comparação ao mesmo tempo na expressão booleana.\n",
    "Unem-se duas ou mais operadores de comparação utilizando os operadores lógicos **E** e **OU**.\n",
    "\n",
    "### <font color='red'>Alerta de comparação com C</font>\n",
    "Funciona da mesma forma que na linguagem C. A diferença está na representação dos símbolos de **E** e **OU**. Em C, são representados por && e ||, respectivamente. Já em Python, é mais intuitivo: **and** e **or**."
   ]
  },
  {
   "cell_type": "code",
   "execution_count": 237,
   "metadata": {},
   "outputs": [
    {
     "data": {
      "text/plain": [
       "True"
      ]
     },
     "execution_count": 237,
     "metadata": {},
     "output_type": "execute_result"
    }
   ],
   "source": [
    "x = 3\n",
    "\n",
    "# 3 é maior que 2 e é menor que 5\n",
    "3 > 2 and 3 < 5"
   ]
  },
  {
   "cell_type": "code",
   "execution_count": 238,
   "metadata": {},
   "outputs": [
    {
     "data": {
      "text/plain": [
       "False"
      ]
     },
     "execution_count": 238,
     "metadata": {},
     "output_type": "execute_result"
    }
   ],
   "source": [
    "y = 10\n",
    "\n",
    "# 10 não é maior que 11 nem é menor que 9\n",
    "y > 11 or y < 9"
   ]
  },
  {
   "cell_type": "code",
   "execution_count": 239,
   "metadata": {},
   "outputs": [
    {
     "data": {
      "text/plain": [
       "True"
      ]
     },
     "execution_count": 239,
     "metadata": {},
     "output_type": "execute_result"
    }
   ],
   "source": [
    "# Para o operador OU, basta uma das expressões dar True, para que o resultado seja True\n",
    "x < y or 1 > 99"
   ]
  },
  {
   "cell_type": "code",
   "execution_count": 240,
   "metadata": {},
   "outputs": [
    {
     "data": {
      "text/plain": [
       "False"
      ]
     },
     "execution_count": 240,
     "metadata": {},
     "output_type": "execute_result"
    }
   ],
   "source": [
    "# Para o operador E, basta uma das expressões dar False, para que o resultado seja False\n",
    "x < y and 1 > 99"
   ]
  },
  {
   "cell_type": "markdown",
   "metadata": {},
   "source": [
    "## Estruturas Condicionais\n",
    "\n",
    "Impõem condições ao código, mudando o curso de execução, de acordo com parâmetros.\n",
    "\n",
    "### If, else, elif\n",
    "\n",
    "Estrutura condicional básica de linguagens de programação.\n",
    "Avalia uma expressão com operador de comparação ( =, <, >, !=).\n",
    "**Se (if), Senão(else), SenãoSe(elif).**\n",
    "\n",
    "### <font color='red'>Alerta de comparação com C</font>\n",
    "Uma das mudanças reside no SenãoSe(elif), que não têm representação em C (é preciso fazer um novo bloco if dentro do else para ter resultado igual).\n",
    "A segunda é que **não há necessidade de se colocar {}** em Python. O que está dentro de um bloco é **definido pela indentação**. Para sinalizar o início de um bloco, coloca-se o símbolo '**:**'."
   ]
  },
  {
   "cell_type": "code",
   "execution_count": 241,
   "metadata": {},
   "outputs": [
    {
     "name": "stdout",
     "output_type": "stream",
     "text": [
      "6 é maior que 5\n"
     ]
    }
   ],
   "source": [
    "# Três maneiras diferentes de utilizar a função print. Todas têm mesmo efeito!\n",
    "A = 6\n",
    "B = 5\n",
    "if (A < B):\n",
    "    print(\"{} é menor que {}\".format(A,B))\n",
    "elif(A == B):\n",
    "    print(A, \"é igual a\", B)\n",
    "else:\n",
    "    print(str(A) + \" é maior que \" + str(B))"
   ]
  },
  {
   "cell_type": "code",
   "execution_count": 242,
   "metadata": {},
   "outputs": [
    {
     "name": "stdout",
     "output_type": "stream",
     "text": [
      "Uma pena, ainda não aprendi nenhuma linguagem de programação.\n"
     ]
    }
   ],
   "source": [
    "participou_do_minicurso = False\n",
    "numero_de_linguagens_aprendidas = 0\n",
    "\n",
    "if(participou_do_minicurso):\n",
    "    numero_de_linguagens_aprendidas += 1\n",
    "    print(\"Aprendi Python!\")\n",
    "elif(numero_de_linguagens_aprendidas == 0):\n",
    "    print(\"Uma pena, ainda não aprendi nenhuma linguagem de programação.\")\n",
    "else:\n",
    "    print(\"Não fui ao minicurso de Python, mas pelo menos eu sei programar em outra linguagem\")"
   ]
  },
  {
   "cell_type": "markdown",
   "metadata": {},
   "source": [
    "## Laços de Repetição\n",
    "\n",
    "Repetem um bloco de código enquanto uma condição não for atingida.\n",
    "\n",
    "### While\n",
    "\n",
    "Laço de repetição que tem uma expressão booleana. Sai-se do laço, caso ela tenha valor <font color='red'>False</font>.\n",
    "Há um bloco else opcional que executa na saída do laço.\n",
    "\n",
    "### <font color='red'>Alerta de comparação com C</font>\n",
    "Tem sintaxe e semântica muito parecidos com C. Única mudança será a adição do bloco else opcional que executará na saída do laço while."
   ]
  },
  {
   "cell_type": "code",
   "execution_count": 243,
   "metadata": {},
   "outputs": [
    {
     "name": "stdout",
     "output_type": "stream",
     "text": [
      "Executei quando acabou o laço while.\n"
     ]
    }
   ],
   "source": [
    "# Não executa-se o bloco dentro do while, caso a expressão retorne False desde a primeira execução\n",
    "\n",
    "while(False):\n",
    "    print(\"Executei dentro do While!\")\n",
    "else:\n",
    "    print(\"Executei quando acabou o laço while.\")"
   ]
  },
  {
   "cell_type": "code",
   "execution_count": 244,
   "metadata": {},
   "outputs": [
    {
     "name": "stdout",
     "output_type": "stream",
     "text": [
      "Executei 1 vez(es) até agora!\n",
      "Executei 2 vez(es) até agora!\n",
      "Executei 3 vez(es) até agora!\n",
      "Executei 4 vez(es) até agora!\n",
      "Executei 5 vez(es) até agora!\n",
      "Executei 6 vez(es) até agora!\n",
      "Executei 7 vez(es) até agora!\n",
      "Executei 8 vez(es) até agora!\n",
      "Executei 9 vez(es) até agora!\n",
      "Executei 10 vez(es) até agora!\n",
      "Valor de x ao sair do laço: 10\n"
     ]
    }
   ],
   "source": [
    "x = 0\n",
    "\n",
    "while(x < 10):\n",
    "    x += 1\n",
    "    print(\"Executei\", x, \"vez(es) até agora!\")\n",
    "else:\n",
    "    print(\"Valor de x ao sair do laço: \" + str(x))"
   ]
  },
  {
   "cell_type": "markdown",
   "metadata": {},
   "source": [
    "### For\n",
    "\n",
    "Laço de repetição que percorre um conjunto de elementos que estão em uma sequência ou qualquer outro item iterável (lista, dicionário, string, por exemplo).\n",
    "\n",
    "### <font color='red'>Alerta de comparação com C</font>\n",
    "Em C, para todo laço for há três campos: o primeiro de inicialização de uma variável contadora, o segundo para conduzir o número de iterações através de uma operação booleana e a terceira é executada em todo final de iteração (geralmente usado para incrementar o contador).\n",
    "**Para python, tudo isso é simplificado.** Basta indicar o intervalo que se deseja iterar sobre, ou ainda mais útil, basta informar qual o objeto iterável (lista, etc) se deseja percorrer e o python lida com toda a manipulação de variáveis contadoras."
   ]
  },
  {
   "cell_type": "code",
   "execution_count": 245,
   "metadata": {},
   "outputs": [
    {
     "name": "stdout",
     "output_type": "stream",
     "text": [
      "Iteração 1\n",
      "Iteração 2\n",
      "Iteração 3\n",
      "Iteração 4\n",
      "Iteração 5\n",
      "Iteração 6\n",
      "Iteração 7\n",
      "Iteração 8\n",
      "Iteração 9\n",
      "Iteração 10\n"
     ]
    }
   ],
   "source": [
    "# Para iterar sobre algo por 10 vezes:\n",
    "\n",
    "for i in range(0,10):\n",
    "    print(\"Iteração\", i + 1)"
   ]
  },
  {
   "cell_type": "code",
   "execution_count": 246,
   "metadata": {},
   "outputs": [
    {
     "name": "stdout",
     "output_type": "stream",
     "text": [
      "Pedro: +55 83 9 1234-5432\n",
      "Nathália: +55 83 9 2045-5239\n",
      "Fernanda: +55 83 9 1334-1223\n"
     ]
    }
   ],
   "source": [
    "# Iterando sobre uma lista de contatos na Agenda Telefônica (PROJETO)!\n",
    "\n",
    "agenda = {\"Pedro\":\"+55 83 9 1234-5432\", \"Nathália\":\"+55 83 9 2045-5239\", \"Fernanda\":\"+55 83 9 1334-1223\"}\n",
    "\n",
    "for contato in agenda.items():\n",
    "    print(contato[0] + \": \" + contato[1])"
   ]
  },
  {
   "cell_type": "markdown",
   "metadata": {},
   "source": [
    "## Projeto Final\n",
    "\n",
    "Essa seção é reservada para a explicação do projeto final do minicurso de Python.\n",
    "\n",
    "\n",
    "### Agenda Telefônica\n",
    "\n",
    "O problema consistirá de três etapas: \n",
    "1. Construção da agenda telefônica a partir do arquivo inicial dado;\n",
    "1. Inserção de N novos contatos na lista sendo estes requisitados pelo usuário, onde N é o último dígito do ano em que você nasceu;\n",
    "1. Printar na tela apenas os contatos cujo último digito do telefone é maior ou igual ao último dígito da sua idade **E** cujo nome começa com uma letra do alfabeto posterior à primeira letra do seu nome.\n",
    "\n",
    "\n",
    "### Facilidades do Python úteis para o projeto\n",
    "\n",
    "* Ler da entrada comum (teclado):"
   ]
  },
  {
   "cell_type": "code",
   "execution_count": 247,
   "metadata": {},
   "outputs": [
    {
     "name": "stdout",
     "output_type": "stream",
     "text": [
      "Digite o seu nome: Pedro\n",
      "Digite sua idade: 19\n"
     ]
    }
   ],
   "source": [
    "# Comando para ler uma string do teclado\n",
    "\n",
    "nome = input(\"Digite o seu nome: \")\n",
    "\n",
    "# Para ler um inteiro, usar conversão de objetos\n",
    "\n",
    "idade = int(input(\"Digite sua idade: \"))"
   ]
  },
  {
   "cell_type": "markdown",
   "metadata": {},
   "source": [
    "* Acessar último elemento de uma lista qualquer:"
   ]
  },
  {
   "cell_type": "code",
   "execution_count": 248,
   "metadata": {},
   "outputs": [
    {
     "name": "stdout",
     "output_type": "stream",
     "text": [
      "Último termo da Lista comum: Mundo\n",
      "Último número da Data de nascimento: 3\n"
     ]
    }
   ],
   "source": [
    "lista_comum = [1,2,3,45,\"Olá\",\"Mundo\"]\n",
    "data_de_nascimento = \"06/02/1993\"\n",
    "\n",
    "# Pode-se usar o índice -1 para se referir ao último elemento da lista ou qualquer outro objeto iterável\n",
    "\n",
    "print(\"Último termo da Lista comum:\", lista_comum[-1])\n",
    "print(\"Último número da Data de nascimento:\", data_de_nascimento[-1])"
   ]
  },
  {
   "cell_type": "markdown",
   "metadata": {},
   "source": [
    "## Extra - List Comprehension\n",
    "\n",
    "Resolvi colocar esse assunto extra, caso alunos que estejam mais adiantados, terminem o projeto antes do final do minicurso, além de servir como material extra para que vocês vejam em casa.\n",
    "\n",
    "A list comprehension é uma funcionalidade do Python derivada das linguagens funcionais (Haskell, OCaml, etc), nas quais expressões matemáticas são resolvidas em uma única linha.\n",
    "\n",
    "Nela, é possível montar uma lista cujos elementos seguem uma regra."
   ]
  },
  {
   "cell_type": "code",
   "execution_count": 249,
   "metadata": {},
   "outputs": [
    {
     "name": "stdout",
     "output_type": "stream",
     "text": [
      "[1, 2, 3, 4, 5, 6, 7, 8, 9, 10]\n"
     ]
    }
   ],
   "source": [
    "# Cria uma lista com elementos de 1 a 10\n",
    "nova_lista = [x for x in range(1,11)]\n",
    "print(nova_lista)"
   ]
  },
  {
   "cell_type": "code",
   "execution_count": 250,
   "metadata": {},
   "outputs": [
    {
     "name": "stdout",
     "output_type": "stream",
     "text": [
      "Nomes: ['Pedro', 'Isabel', 'Mario']\n",
      "Telefones: ['+55 83 9 9642-2332', '+55 83 9 2232-0902', '+55 83 9 9342-3323']\n"
     ]
    }
   ],
   "source": [
    "# Aplicabilidade para o projeto!\n",
    "agenda = {\"Pedro\":\"+55 83 9 9642-2332\", \"Isabel\":\"+55 83 9 2232-0902\", \"Mario\":\"+55 83 9 9342-3323\"}\n",
    "\n",
    "nomes = [nome for nome in agenda.keys()]\n",
    "telefones = [numero for numero in agenda.values()]\n",
    "\n",
    "print(\"Nomes:\", nomes)\n",
    "print(\"Telefones:\", telefones)"
   ]
  },
  {
   "cell_type": "code",
   "execution_count": 251,
   "metadata": {},
   "outputs": [
    {
     "name": "stdout",
     "output_type": "stream",
     "text": [
      "[[1, 2, 3, 4, 5, 6, 7, 8, 9, 10], [1, 2, 3, 4, 5, 6, 7, 8, 9, 10], [1, 2, 3, 4, 5, 6, 7, 8, 9, 10], [1, 2, 3, 4, 5, 6, 7, 8, 9, 10], [1, 2, 3, 4, 5, 6, 7, 8, 9, 10], [1, 2, 3, 4, 5, 6, 7, 8, 9, 10], [1, 2, 3, 4, 5, 6, 7, 8, 9, 10], [1, 2, 3, 4, 5, 6, 7, 8, 9, 10], [1, 2, 3, 4, 5, 6, 7, 8, 9, 10], [1, 2, 3, 4, 5, 6, 7, 8, 9, 10]]\n"
     ]
    }
   ],
   "source": [
    "# Aninhado também vale! Matriz 10x10 com elementos de cada linha indo de 1 a 10.\n",
    "\n",
    "matriz = [[elemento for elemento in range(1,11)] for linha in range(1,11)]\n",
    "\n",
    "print(matriz)"
   ]
  }
 ],
 "metadata": {
  "kernelspec": {
   "display_name": "Python 3",
   "language": "python",
   "name": "python3"
  },
  "language_info": {
   "codemirror_mode": {
    "name": "ipython",
    "version": 3
   },
   "file_extension": ".py",
   "mimetype": "text/x-python",
   "name": "python",
   "nbconvert_exporter": "python",
   "pygments_lexer": "ipython3",
   "version": "3.6.1"
  }
 },
 "nbformat": 4,
 "nbformat_minor": 2
}
